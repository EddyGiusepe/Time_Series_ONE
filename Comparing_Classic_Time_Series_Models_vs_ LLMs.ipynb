{
 "cells": [
  {
   "cell_type": "markdown",
   "metadata": {},
   "source": [
    "# <h1 align='center'><font color=\"red\">Comparing Classic Time Series Models vs. LLMs</font></h1> "
   ]
  },
  {
   "cell_type": "markdown",
   "metadata": {},
   "source": [
    "<font color=\"pink\">Senior Data Scientist.: Dr.Eddy Giusepe Chirinos Isidro</font>"
   ]
  },
  {
   "cell_type": "markdown",
   "metadata": {},
   "source": [
    "Link de estudo:\n",
    "\n",
    "* [Tópicos de Ciência de Dados em Python](https://xbe.at/)"
   ]
  },
  {
   "cell_type": "markdown",
   "metadata": {},
   "source": [
    "# <font color=\"gree\">Introdução à Previsão de Séries Temporais</font>"
   ]
  },
  {
   "cell_type": "markdown",
   "metadata": {},
   "source": [
    "<font color=\"orange\">Previsão de séries temporais é uma técnica crucial na ciência de dados, usada para prever valores futuros com base em dados históricos. Esta apresentação compara modelos clássicos como Long `Short-Term Memory (LSTM)` e `Recurrent Neural Networks (RNN)` com `Large Language Models (LLMs)` para previsão de séries temporais usando `Python`.</font>"
   ]
  },
  {
   "cell_type": "code",
   "execution_count": null,
   "metadata": {},
   "outputs": [],
   "source": [
    "import numpy as np\n",
    "import matplotlib.pyplot as plt\n",
    "\n",
    "# Generate a simple Time Series:\n",
    "time = np.arange(0, 100, 0.1)\n",
    "signal = np.sin(time) + np.random.normal(0, 0.1, len(time)) # Sinal senoidal com ruído adicionado\n",
    "\n",
    "plt.figure(figsize=(15, 6))\n",
    "plt.plot(time, signal)\n",
    "plt.title(\"Example Time Series\", c=\"r\", size=25)\n",
    "plt.xlabel(\"Time\", c=\"b\", size=20)\n",
    "plt.ylabel(\"Value\", c=\"b\", size=20)\n",
    "plt.grid(True)\n",
    "plt.show()\n"
   ]
  },
  {
   "cell_type": "code",
   "execution_count": null,
   "metadata": {},
   "outputs": [],
   "source": [
    "import tensorflow as tf\n",
    "import numpy as np\n",
    "\n",
    "print(\"TensorFlow version:\", tf.__version__)\n",
    "print(\"NumPy version:\", np.__version__)"
   ]
  },
  {
   "cell_type": "markdown",
   "metadata": {},
   "source": [
    "# <font color=\"gree\">Compreendendo LSTMs e RNNs</font>"
   ]
  },
  {
   "cell_type": "markdown",
   "metadata": {},
   "source": [
    "`LSTMs` e `RNNs` são arquiteturas clássicas de rede neural projetadas para lidar com dados sequenciais. Elas mantêm estados internos para capturar dependências temporais, tornando-as adequadas para previsão de `séries temporais`."
   ]
  },
  {
   "cell_type": "code",
   "execution_count": null,
   "metadata": {},
   "outputs": [],
   "source": [
    "import tensorflow as tf\n",
    "\n",
    "# Simple LSTM model:\n",
    "model = tf.keras.Sequential([\n",
    "    tf.keras.layers.LSTM(50, activation='relu', input_shape=(10, 1)), # ReLU (Rectified Linear Unit)\n",
    "    tf.keras.layers.Dense(1) # Camada densa (totalmente conectada)\n",
    "])\n",
    "\n",
    "model.compile(optimizer='adam', loss='mse') # 'mse' significa Mean Squared Error (Erro Quadrático Médio).\n",
    "print(model.summary())\n",
    "\n",
    "\n",
    "# Tive que executar: pip install --upgrade tensorflow numpy"
   ]
  },
  {
   "cell_type": "markdown",
   "metadata": {},
   "source": [
    "# <font color=\"gree\">LSTM para Previsão de Séries Temporais</font>"
   ]
  },
  {
   "cell_type": "markdown",
   "metadata": {},
   "source": [
    "`LSTMs` são particularmente eficazes para capturar dependências de longo prazo em dados de séries temporais. Aqui está um exemplo de uso de `LSTM` para previsão:"
   ]
  },
  {
   "cell_type": "code",
   "execution_count": 2,
   "metadata": {},
   "outputs": [
    {
     "name": "stdout",
     "output_type": "stream",
     "text": [
      "Num GPUs Available:  0\n",
      "TensorFlow is using GPU: True\n"
     ]
    }
   ],
   "source": [
    "import tensorflow as tf\n",
    "print(\"Num GPUs Available: \", len(tf.config.list_physical_devices('GPU')))\n",
    "print(\"TensorFlow is using GPU:\", tf.test.is_built_with_cuda())"
   ]
  },
  {
   "cell_type": "code",
   "execution_count": 1,
   "metadata": {},
   "outputs": [
    {
     "name": "stderr",
     "output_type": "stream",
     "text": [
      "2024-09-10 23:23:14.015385: I tensorflow/core/util/port.cc:153] oneDNN custom operations are on. You may see slightly different numerical results due to floating-point round-off errors from different computation orders. To turn them off, set the environment variable `TF_ENABLE_ONEDNN_OPTS=0`.\n",
      "2024-09-10 23:23:14.015872: I external/local_xla/xla/tsl/cuda/cudart_stub.cc:32] Could not find cuda drivers on your machine, GPU will not be used.\n",
      "2024-09-10 23:23:14.017811: I external/local_xla/xla/tsl/cuda/cudart_stub.cc:32] Could not find cuda drivers on your machine, GPU will not be used.\n",
      "2024-09-10 23:23:14.023553: E external/local_xla/xla/stream_executor/cuda/cuda_fft.cc:485] Unable to register cuFFT factory: Attempting to register factory for plugin cuFFT when one has already been registered\n",
      "2024-09-10 23:23:14.033249: E external/local_xla/xla/stream_executor/cuda/cuda_dnn.cc:8454] Unable to register cuDNN factory: Attempting to register factory for plugin cuDNN when one has already been registered\n",
      "2024-09-10 23:23:14.036095: E external/local_xla/xla/stream_executor/cuda/cuda_blas.cc:1452] Unable to register cuBLAS factory: Attempting to register factory for plugin cuBLAS when one has already been registered\n",
      "2024-09-10 23:23:14.043463: I tensorflow/core/platform/cpu_feature_guard.cc:210] This TensorFlow binary is optimized to use available CPU instructions in performance-critical operations.\n",
      "To enable the following instructions: AVX2 AVX_VNNI FMA, in other operations, rebuild TensorFlow with the appropriate compiler flags.\n",
      "2024-09-10 23:23:14.501981: W tensorflow/compiler/tf2tensorrt/utils/py_utils.cc:38] TF-TRT Warning: Could not find TensorRT\n",
      "WARNING: All log messages before absl::InitializeLog() is called are written to STDERR\n",
      "I0000 00:00:1726021394.988729   52584 cuda_executor.cc:1015] successful NUMA node read from SysFS had negative value (-1), but there must be at least one NUMA node, so returning NUMA node zero. See more at https://github.com/torvalds/linux/blob/v6.0/Documentation/ABI/testing/sysfs-bus-pci#L344-L355\n",
      "2024-09-10 23:23:14.989138: W tensorflow/core/common_runtime/gpu/gpu_device.cc:2343] Cannot dlopen some GPU libraries. Please make sure the missing libraries mentioned above are installed properly if you would like to use GPU. Follow the guide at https://www.tensorflow.org/install/gpu for how to download and setup the required libraries for your platform.\n",
      "Skipping registering GPU devices...\n",
      "/home/eddygiusepe/2_EddyGiusepe_Estudo/Time_Series_ONE/venv_TimeSeries/lib/python3.10/site-packages/keras/src/layers/rnn/rnn.py:204: UserWarning: Do not pass an `input_shape`/`input_dim` argument to a layer. When using Sequential models, prefer using an `Input(shape)` object as the first layer in the model instead.\n",
      "  super().__init__(**kwargs)\n"
     ]
    },
    {
     "name": "stdout",
     "output_type": "stream",
     "text": [
      "\u001b[1m1/1\u001b[0m \u001b[32m━━━━━━━━━━━━━━━━━━━━\u001b[0m\u001b[37m\u001b[0m \u001b[1m0s\u001b[0m 92ms/step\n",
      "Next value prediction: 0.838223934173584\n"
     ]
    }
   ],
   "source": [
    "import numpy as np\n",
    "from sklearn.preprocessing import MinMaxScaler\n",
    "import tensorflow as tf\n",
    "from tensorflow.keras.models import Sequential\n",
    "from tensorflow.keras.layers import LSTM, Dense\n",
    "    \n",
    "# Prepare data:\n",
    "data = np.sin(np.arange(0, 1000, 0.1)) + np.random.normal(0, 0.1, 10000)\n",
    "scaler = MinMaxScaler(feature_range=(0, 1))\n",
    "scaled_data = scaler.fit_transform(data.reshape(-1, 1))\n",
    "\n",
    "# Create sequences:\n",
    "def create_sequences(data, seq_length):\n",
    "    X, y = [], []\n",
    "    for i in range(len(data) - seq_length):\n",
    "        X.append(data[i:i+seq_length])\n",
    "        y.append(data[i+seq_length])\n",
    "    return np.array(X), np.array(y)\n",
    "\n",
    "seq_length = 100\n",
    "X, y = create_sequences(scaled_data, seq_length)\n",
    "\n",
    "# Build and train model:\n",
    "model = Sequential([LSTM(50, activation='relu', input_shape=(seq_length, 1)),\n",
    "                    Dense(1)\n",
    "                   ])\n",
    "model.compile(optimizer='adam', loss='mse')\n",
    "model.fit(X, y, epochs=50, batch_size=8, validation_split=0.1, verbose=0)\n",
    "\n",
    "# Make predictions:\n",
    "last_sequence = scaled_data[-seq_length:]\n",
    "next_prediction = model.predict(last_sequence.reshape(1, seq_length, 1))\n",
    "print(f\"Next value prediction: {scaler.inverse_transform(next_prediction)[0][0]}\")\n"
   ]
  },
  {
   "cell_type": "markdown",
   "metadata": {},
   "source": [
    "# <font color=\"gree\">RNN para Previsão de Séries Temporais</font>"
   ]
  },
  {
   "cell_type": "markdown",
   "metadata": {},
   "source": [
    "`RNNs` são mais simples que `LSTMs`, mas ainda podem ser eficazes para sequências mais curtas. Aqui está um exemplo usando `SimpleRNN`:"
   ]
  },
  {
   "cell_type": "code",
   "execution_count": 3,
   "metadata": {},
   "outputs": [
    {
     "name": "stderr",
     "output_type": "stream",
     "text": [
      "/home/eddygiusepe/2_EddyGiusepe_Estudo/Time_Series_ONE/venv_TimeSeries/lib/python3.10/site-packages/keras/src/layers/rnn/rnn.py:204: UserWarning: Do not pass an `input_shape`/`input_dim` argument to a layer. When using Sequential models, prefer using an `Input(shape)` object as the first layer in the model instead.\n",
      "  super().__init__(**kwargs)\n"
     ]
    },
    {
     "name": "stdout",
     "output_type": "stream",
     "text": [
      "\u001b[1m1/1\u001b[0m \u001b[32m━━━━━━━━━━━━━━━━━━━━\u001b[0m\u001b[37m\u001b[0m \u001b[1m0s\u001b[0m 56ms/step\n",
      "Next value prediction: 0.8823580741882324\n"
     ]
    }
   ],
   "source": [
    "from tensorflow.keras.layers import SimpleRNN\n",
    "\n",
    "# Prepare data (assuming X and y are prepared as in the previous slide)\n",
    "\n",
    "# Build and train model\n",
    "model = Sequential([\n",
    "    SimpleRNN(50, activation='relu', input_shape=(seq_length, 1)),\n",
    "    Dense(1)\n",
    "])\n",
    "model.compile(optimizer='adam', loss='mse')\n",
    "model.fit(X, y, epochs=50, batch_size=4, validation_split=0.1, verbose=0)\n",
    "\n",
    "# Make predictions\n",
    "last_sequence = scaled_data[-seq_length:]\n",
    "next_prediction = model.predict(last_sequence.reshape(1, seq_length, 1))\n",
    "print(f\"Next value prediction: {scaler.inverse_transform(next_prediction)[0][0]}\")\n"
   ]
  },
  {
   "cell_type": "markdown",
   "metadata": {},
   "source": [
    "# <font color=\"pink\">Limitações dos modelos clássicos</font>"
   ]
  },
  {
   "cell_type": "markdown",
   "metadata": {},
   "source": [
    "Embora `LSTMs` e `RNNs` sejam poderosos, eles têm limitações:\n",
    "\n",
    "* Eles podem ter dificuldades com dependências de longo prazo.\n",
    "\n",
    "* Eles exigem um ajuste cuidadoso dos `hiperparâmetros`.\n",
    "\n",
    "* Eles podem ser computacionalmente caros para grandes conjuntos de dados.\n",
    "\n",
    "* Eles podem não capturar padrões complexos em `séries temporais multivariadas` de forma eficaz."
   ]
  },
  {
   "cell_type": "code",
   "execution_count": 6,
   "metadata": {},
   "outputs": [
    {
     "data": {
      "image/png": "[encoded data removed]",
      "text/plain": [
       "<Figure size 800x400 with 1 Axes>"
      ]
     },
     "metadata": {},
     "output_type": "display_data"
    }
   ],
   "source": [
    "import matplotlib.pyplot as plt\n",
    "# Visualizing the vanishing gradient problem\n",
    "def relu(x):\n",
    "    return np.maximum(0, x)\n",
    "\n",
    "x = np.linspace(-5, 5, 100)\n",
    "y_relu = relu(x)\n",
    "y_tanh = np.tanh(x)\n",
    "\n",
    "plt.figure(figsize=(8, 4))\n",
    "plt.plot(x, y_relu, label='ReLU')\n",
    "plt.plot(x, y_tanh, label='Tanh')\n",
    "plt.title(\"Activation Functions\")\n",
    "plt.legend()\n",
    "plt.grid(True)\n",
    "plt.show()\n",
    "\n",
    "# Observe como tanh satura, levando potencialmente ao desaparecimento de gradientes\n"
   ]
  },
  {
   "cell_type": "markdown",
   "metadata": {},
   "source": [
    "# <font color=\"gree\">Introdução aos Grandes Modelos de Linguagem (LLMs)</font>"
   ]
  },
  {
   "cell_type": "markdown",
   "metadata": {},
   "source": [
    "`LLMs`, como `GPT` (`Generative Pre-trained Transformer`), são modelos baseados em `Transformers`, originalmente projetados para tarefas de Processamento de Linguagem Natural (NLP). Recentemente, eles mostraram resultados promissores em previsão de séries temporais."
   ]
  },
  {
   "cell_type": "code",
   "execution_count": null,
   "metadata": {},
   "outputs": [],
   "source": [
    "import torch\n",
    "from transformers import GPT2LMHeadModel, GPT2Tokenizer\n",
    "\n",
    "# Load pre-trained GPT-2 model\n",
    "model = GPT2LMHeadModel.from_pretrained('gpt2')\n",
    "tokenizer = GPT2Tokenizer.from_pretrained('gpt2')\n",
    "\n",
    "# Example of tokenizing time series data\n",
    "time_series = [1.5, 2.3, 3.1, 4.0, 5.2]\n",
    "tokenized = tokenizer.encode(' '.join(map(str, time_series)))\n",
    "print(f\"Tokenized time series: {tokenized}\")\n"
   ]
  }
 ],
 "metadata": {
  "kernelspec": {
   "display_name": "venv_TimeSeries",
   "language": "python",
   "name": "python3"
  },
  "language_info": {
   "codemirror_mode": {
    "name": "ipython",
    "version": 3
   },
   "file_extension": ".py",
   "mimetype": "text/x-python",
   "name": "python",
   "nbconvert_exporter": "python",
   "pygments_lexer": "ipython3",
   "version": "3.10.12"
  }
 },
 "nbformat": 4,
 "nbformat_minor": 2
}
